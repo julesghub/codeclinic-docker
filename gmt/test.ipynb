{
 "cells": [
  {
   "cell_type": "code",
   "execution_count": null,
   "id": "b98b7159-b980-4ec3-b1b2-bda28249e622",
   "metadata": {},
   "outputs": [],
   "source": [
    "import pygmt"
   ]
  },
  {
   "cell_type": "code",
   "execution_count": null,
   "id": "c17b8459-cfa1-450d-b9d1-bb83b1226291",
   "metadata": {},
   "outputs": [],
   "source": [
    "fig = pygmt.Figure()\n",
    "fig.basemap(region=\"g\", projection=\"W15c\", frame=True)\n",
    "fig.coast(shorelines=True)\n",
    "fig.show()"
   ]
  },
  {
   "cell_type": "code",
   "execution_count": null,
   "id": "f67483b9-2ecd-41e3-8e4c-283877bfe004",
   "metadata": {},
   "outputs": [],
   "source": []
  }
 ],
 "metadata": {
  "kernelspec": {
   "display_name": "Python 3 (ipykernel)",
   "language": "python",
   "name": "python3"
  },
  "language_info": {
   "codemirror_mode": {
    "name": "ipython",
    "version": 3
   },
   "file_extension": ".py",
   "mimetype": "text/x-python",
   "name": "python",
   "nbconvert_exporter": "python",
   "pygments_lexer": "ipython3",
   "version": "3.10.7"
  }
 },
 "nbformat": 4,
 "nbformat_minor": 5
}
